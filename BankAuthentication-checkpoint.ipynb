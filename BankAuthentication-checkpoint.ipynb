{
 "cells": [
  {
   "cell_type": "code",
   "execution_count": 1,
   "id": "c7faa4aa",
   "metadata": {},
   "outputs": [
    {
     "name": "stdout",
     "output_type": "stream",
     "text": [
      "[0 0 0 0 0 0 0 0 0 1 0 0 0 0 1 0 1 1 0 1 0 0 1 0 0 0 0 1 0 0 1 0 1 0 0 0 1\n",
      " 1 1 1 1 0 1 1 1 1 0 0 0 0 1 0 0 1 0 0 0 0 0 0 0 1 1 0 1 1 0 0 0 1 0 0 1 0\n",
      " 0 0 0 1 0 0 1 0 0 1 1 0 0 0 0 0 0 1 0 1 0 1 0 0 1 0 1 0 0 0 0 1 0 0 0 0 1\n",
      " 1 0 0 0 0 0 0 1 1 0 1 0 1 0 0 1 0 1 0 0 1 1 0 1 0 0 0 1 0 1 1 0 1 0 1 0 1\n",
      " 1 0 0 0 0 1 1 1 1 0 1 0 1 0 1 1 1 0 1 1 0 1 0 0 1 0 1 1 0 1 1 0 1 1 0 0 0\n",
      " 1 0 1 0 1 0 0 1 0 0 0 0 0 1 0 1 0 0 0 0 0 0 1 0 0 1 1 0 0 0 1 0 0 1 1 1 1\n",
      " 1 1 1 0 0 0 0 0 1 0 0 0 1 1 0 1 0 0 0 1 0 1 1 0 0 1 1 0 0 0 0 0 1 0 0 0 0\n",
      " 1 1 0 0 0 0 0 0 0 0 1 1 1 1 1 1 1 0 0 1 1 0 0 1 1 0 0 0 1 1 0 0 0 1 0 0 1\n",
      " 1 1 1 0 1 1 0 1 1 0 1 1 1 0 0 1 1 1 0 0 0 0 1 0 0 1 0 0 1 0 0 1 1 0 0 0 0\n",
      " 1 0 0 0 1 0 0 1 0 0 0 1 1 0 1 0 0 1 1 0 0 1 1 1 0 0 1 1 0 1 1 0 0 1 0 0 0\n",
      " 0 1 0 0 1 1 0 1 1 0 0 1 1 1 1 1 1 0 0 0 1 0 1 0 1 0 0 1 1 0 1 0 0 0 0 1 0\n",
      " 1 1 1 0 0]\n",
      "      class  ycapvalue\n",
      "650       0          0\n",
      "373       0          0\n",
      "156       0          0\n",
      "130       0          0\n",
      "338       0          0\n",
      "...     ...        ...\n",
      "1270      1          1\n",
      "1222      1          1\n",
      "1057      1          1\n",
      "465       0          0\n",
      "575       0          0\n",
      "\n",
      "[412 rows x 2 columns]\n",
      "99.02912621359224\n",
      "newvalu= [0]\n"
     ]
    },
    {
     "name": "stderr",
     "output_type": "stream",
     "text": [
      "C:\\Users\\91885\\anaconda3\\lib\\site-packages\\sklearn\\base.py:420: UserWarning: X does not have valid feature names, but LogisticRegression was fitted with feature names\n",
      "  warnings.warn(\n"
     ]
    },
    {
     "data": {
      "image/png": "[encoded data removed]",
      "text/plain": [
       "<Figure size 640x480 with 1 Axes>"
      ]
     },
     "metadata": {},
     "output_type": "display_data"
    }
   ],
   "source": [
    "##Step-1 Data Collection\n",
    "import math\n",
    "import pandas as pd\n",
    "import matplotlib.pyplot as plt\n",
    "import sklearn.metrics\n",
    "import sklearn\n",
    "\n",
    "df = pd.read_csv(\"BankNote_Authentication.csv\")\n",
    "# print(df)\n",
    "\n",
    "##step-2 Data Preparation\n",
    "##figure out X(input variable) and Y(Target Variable)\n",
    "X=df.drop(['class'],axis=1)\n",
    "# print(X)\n",
    "Y=df['class']\n",
    "# print(Y)\n",
    "from sklearn.model_selection import train_test_split\n",
    "X_train,X_test,Y_train,Y_test=train_test_split(X,Y,test_size=0.3)\n",
    "# print(X_train,X_test,Y_train,Y_test)\n",
    "\n",
    "##step-3 Model Training\n",
    "#logistic regression\n",
    "from sklearn.linear_model import LogisticRegression\n",
    "model = LogisticRegression(max_iter=100000)\n",
    "model.fit(X_train,Y_train)\n",
    "\n",
    "##step-4 Model fit\n",
    "ycap=model.predict(X_test)\n",
    "print(ycap)\n",
    "##scatter plot with respect to prediction(ycap) and Y_test\n",
    "plt.scatter(ycap,Y_test)\n",
    "\n",
    "dfnew = pd.DataFrame(Y_test)\n",
    "dfnew['ycapvalue']=ycap\n",
    "print(dfnew)\n",
    "##step-5 Accuracy\n",
    "from sklearn.metrics import accuracy_score\n",
    "import numpy as np\n",
    "accscore = accuracy_score(np.round(ycap),Y_test)\n",
    "print(accscore*100)\n",
    "newvalue=model.predict([[2,4,5,1]])\n",
    "print('newvalu=',newvalue)\n",
    "##Deploy\n",
    "import pickle\n",
    "f=open(\"classifier.pkl\",\"wb\")\n",
    "pickle.dump(model,f)\n",
    "# newvalue=model.predict([[3,4,5,1]])\n",
    "# print('newvalu=',newvalue)\n"
   ]
  },
  {
   "cell_type": "code",
   "execution_count": null,
   "id": "91d42b98",
   "metadata": {},
   "outputs": [],
   "source": []
  },
  {
   "cell_type": "code",
   "execution_count": null,
   "id": "f0b7f450",
   "metadata": {},
   "outputs": [],
   "source": []
  },
  {
   "cell_type": "code",
   "execution_count": null,
   "id": "1ba4922f",
   "metadata": {},
   "outputs": [],
   "source": []
  }
 ],
 "metadata": {
  "kernelspec": {
   "display_name": "Python 3 (ipykernel)",
   "language": "python",
   "name": "python3"
  },
  "language_info": {
   "codemirror_mode": {
    "name": "ipython",
    "version": 3
   },
   "file_extension": ".py",
   "mimetype": "text/x-python",
   "name": "python",
   "nbconvert_exporter": "python",
   "pygments_lexer": "ipython3",
   "version": "3.10.9"
  }
 },
 "nbformat": 4,
 "nbformat_minor": 5
}
